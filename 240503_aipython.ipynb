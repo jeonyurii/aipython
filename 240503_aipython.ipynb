{
  "nbformat": 4,
  "nbformat_minor": 0,
  "metadata": {
    "colab": {
      "provenance": []
    },
    "kernelspec": {
      "name": "python3",
      "display_name": "Python 3"
    },
    "language_info": {
      "name": "python"
    }
  },
  "cells": [
    {
      "cell_type": "markdown",
      "source": [
        "### **패키지**\n",
        "\n",
        "\n",
        "파이썬 패키지는 파이썬 코드를 모듈화하고 재사용 가능한 형태로 구성하는 방법입니다.\n",
        "\n",
        "패키지는 여러 모듈의 집합이며, 관련된 기능을 그룹화하여 제공합니다.\n",
        "\n",
        "이를 통해 코드를 구조화하고 관리하기 쉽게 만들어줍니다.\n",
        "\n",
        "파이썬 외부패키지 별로 없음\n",
        "\n",
        "아나콘다(개발자용) 외부패키지 많음\n",
        "\n",
        "- 많으면 다양하지만, 설치가 길고 무겁고\n",
        "- 적으면 원하는 것만 설치해서 사용 가능\n",
        "\n",
        "= 장단점이 있음"
      ],
      "metadata": {
        "id": "rxXuXkzeF51h"
      }
    },
    {
      "cell_type": "markdown",
      "source": [
        "### **패키지 설치**\n",
        "\n",
        "- 단일 패키지 설치\n",
        "\n",
        "pip install package_name\n",
        "\n",
        "- 특정 버전의 패키지 설치:\n",
        "\n",
        "pip install package_name==version_number\n",
        "\n",
        "- 가상환경에 패키지 설치:\n",
        "\n",
        "가상환경 생성\n",
        "\n",
        "python -m venv myenv\n",
        "\n",
        "가상환경 활성화\n",
        "\n",
        "source myenv/bin/activate   /  윈도우의 경우: .\\myenv\\Scripts\\activate\n",
        "\n",
        "패키지 설치\n",
        "\n",
        "pip install package_name\n",
        "\n",
        "가상환경 비활성화\n",
        "\n",
        "deactivate\n",
        "\n",
        "\n"
      ],
      "metadata": {
        "id": "i6q8yRfzHnB4"
      }
    },
    {
      "cell_type": "markdown",
      "source": [
        "### **python**\n",
        "\n",
        "패키지(모듈) 설치 pip install ~~\n",
        "\n",
        "import pandas\n",
        "\n",
        "import numpy"
      ],
      "metadata": {
        "id": "kSXvtuwcJoUI"
      }
    },
    {
      "cell_type": "code",
      "execution_count": 6,
      "metadata": {
        "colab": {
          "base_uri": "https://localhost:8080/"
        },
        "id": "AC9eTcVi-5GP",
        "outputId": "41b446a3-477c-460f-c56f-19d98073101c"
      },
      "outputs": [
        {
          "output_type": "execute_result",
          "data": {
            "text/plain": [
              "array([1, 3, 5, 7, 9])"
            ]
          },
          "metadata": {},
          "execution_count": 6
        }
      ],
      "source": [
        "#1. 1부터 10까지(미포함)의 2걸음 크기의 정수값 배열을 생성해보자\n",
        "\n",
        "import numpy as np  ## 항상 제일 먼저\n",
        "\n",
        "arr = np.arange(1,10,2)\n",
        "arr"
      ]
    },
    {
      "cell_type": "code",
      "source": [
        "#2. 모양이 (3,4)인 모든 값이 1인 배열을 생성해보자\n",
        "\n",
        "ones_1d = np.ones((3,4))  # 모양은 2차원, 3행 4열\n",
        "print(ones_1d)"
      ],
      "metadata": {
        "colab": {
          "base_uri": "https://localhost:8080/"
        },
        "id": "EE7nTYnCUEdt",
        "outputId": "532a6c4b-8fb4-49d6-c15c-f249e2a3952d"
      },
      "execution_count": 4,
      "outputs": [
        {
          "output_type": "stream",
          "name": "stdout",
          "text": [
            "[[1. 1. 1. 1.]\n",
            " [1. 1. 1. 1.]\n",
            " [1. 1. 1. 1.]]\n"
          ]
        }
      ]
    },
    {
      "cell_type": "code",
      "source": [
        "#3. 0과 1사이를 10등분하고자 할 때 등분값 배열을 생성해보자\n",
        "\n",
        "arr2 = np.linspace(0,1,10)\n",
        "print(arr2)"
      ],
      "metadata": {
        "colab": {
          "base_uri": "https://localhost:8080/"
        },
        "id": "OEkaHaNhURIF",
        "outputId": "e2eea441-22cf-4b94-a73d-a8616e600896"
      },
      "execution_count": 3,
      "outputs": [
        {
          "output_type": "stream",
          "name": "stdout",
          "text": [
            "[0.         0.11111111 0.22222222 0.33333333 0.44444444 0.55555556\n",
            " 0.66666667 0.77777778 0.88888889 1.        ]\n"
          ]
        }
      ]
    },
    {
      "cell_type": "code",
      "source": [
        "# 답\n",
        "arr3 = np.linspace(0,1,11)\n",
        "arr3"
      ],
      "metadata": {
        "colab": {
          "base_uri": "https://localhost:8080/"
        },
        "id": "0Usm6T9fUcNU",
        "outputId": "a2ce1f55-12d8-4af7-94ff-2614d4523832"
      },
      "execution_count": 7,
      "outputs": [
        {
          "output_type": "execute_result",
          "data": {
            "text/plain": [
              "array([0. , 0.1, 0.2, 0.3, 0.4, 0.5, 0.6, 0.7, 0.8, 0.9, 1. ])"
            ]
          },
          "metadata": {},
          "execution_count": 7
        }
      ]
    },
    {
      "cell_type": "code",
      "source": [
        "# A 행렬 생성\n",
        "\n",
        "A = np.array([[ 1, 2, 3, 4, 5],\n",
        " [ 6, 7, 8, 9, 10],\n",
        " [11, 12, 13, 14, 15],\n",
        " [16, 17, 18, 19, 20],\n",
        " [21, 22, 23, 24, 25]])\n"
      ],
      "metadata": {
        "colab": {
          "base_uri": "https://localhost:8080/"
        },
        "id": "-knlRCxJWoyE",
        "outputId": "22a73ff9-8d46-4bcd-d183-7f059526b052"
      },
      "execution_count": 22,
      "outputs": [
        {
          "output_type": "stream",
          "name": "stdout",
          "text": [
            "<function shape at 0x7e0a87f89d80>\n",
            "19\n",
            "1 6\n"
          ]
        }
      ]
    },
    {
      "cell_type": "code",
      "source": [
        "# A의 모양 추출\n",
        "A.shape"
      ],
      "metadata": {
        "colab": {
          "base_uri": "https://localhost:8080/"
        },
        "id": "mYUZhOiwYJTF",
        "outputId": "cd8f98e2-7339-42ed-948f-8227498a9310"
      },
      "execution_count": 23,
      "outputs": [
        {
          "output_type": "execute_result",
          "data": {
            "text/plain": [
              "(5, 5)"
            ]
          },
          "metadata": {},
          "execution_count": 23
        }
      ]
    },
    {
      "cell_type": "code",
      "source": [
        "# 19 값 추출\n",
        "\n",
        "A[3,3]"
      ],
      "metadata": {
        "colab": {
          "base_uri": "https://localhost:8080/"
        },
        "id": "q-uuN_wTZ6b1",
        "outputId": "63ce676d-ba58-404a-9252-a85131e54c31"
      },
      "execution_count": 24,
      "outputs": [
        {
          "output_type": "execute_result",
          "data": {
            "text/plain": [
              "19"
            ]
          },
          "metadata": {},
          "execution_count": 24
        }
      ]
    },
    {
      "cell_type": "code",
      "source": [
        "# 슬라이싱을 이용하여 [[1, 2], [6, 7]] 값을 추출\n",
        "\n",
        "A[0:2, 0:2]"
      ],
      "metadata": {
        "colab": {
          "base_uri": "https://localhost:8080/"
        },
        "id": "nl9zQZZ2aBmW",
        "outputId": "d3b80823-201b-4655-cc81-054ba363c06c"
      },
      "execution_count": 31,
      "outputs": [
        {
          "output_type": "execute_result",
          "data": {
            "text/plain": [
              "array([[1, 2],\n",
              "       [6, 7]])"
            ]
          },
          "metadata": {},
          "execution_count": 31
        }
      ]
    },
    {
      "cell_type": "code",
      "source": [
        "A[:2, :2]"
      ],
      "metadata": {
        "colab": {
          "base_uri": "https://localhost:8080/"
        },
        "id": "KGms-7mKaqSY",
        "outputId": "183ba38d-5a72-4472-c976-f9573fc8195f"
      },
      "execution_count": 32,
      "outputs": [
        {
          "output_type": "execute_result",
          "data": {
            "text/plain": [
              "array([[1, 2],\n",
              "       [6, 7]])"
            ]
          },
          "metadata": {},
          "execution_count": 32
        }
      ]
    },
    {
      "cell_type": "code",
      "source": [
        "# 슬라이싱을 이용하여 [[19, 20], [24, 25]] 값을 추출\n",
        "\n",
        "A[3: , 3:]"
      ],
      "metadata": {
        "colab": {
          "base_uri": "https://localhost:8080/"
        },
        "id": "FJ0MxjoaaESF",
        "outputId": "8ab18020-29fe-4c5d-98dc-1c1ea621f600"
      },
      "execution_count": 35,
      "outputs": [
        {
          "output_type": "execute_result",
          "data": {
            "text/plain": [
              "array([[19, 20],\n",
              "       [24, 25]])"
            ]
          },
          "metadata": {},
          "execution_count": 35
        }
      ]
    },
    {
      "cell_type": "code",
      "source": [
        "# 슬라이싱을 이용하여 0축의 첫 번째 행과 두 번째 행을 추출 = 잘 모르겠음\n",
        "\n",
        "# 0축 - 2차원 개념에선, A[0]은 첫번째 행 A[1]는 2번째 행\n",
        "# 축 - 행열 타 표현\n",
        "\n",
        "A[:2]"
      ],
      "metadata": {
        "colab": {
          "base_uri": "https://localhost:8080/"
        },
        "id": "a6q5EhGlaF0V",
        "outputId": "604f30f6-7e7c-4cc1-abe2-968d1d0ba77b"
      },
      "execution_count": 36,
      "outputs": [
        {
          "output_type": "execute_result",
          "data": {
            "text/plain": [
              "array([[ 1,  2,  3,  4,  5],\n",
              "       [ 6,  7,  8,  9, 10]])"
            ]
          },
          "metadata": {},
          "execution_count": 36
        }
      ]
    },
    {
      "cell_type": "code",
      "source": [
        "# 슬라이싱을 이용하여 1축의 마지막 열과 마지막 직전 열을 추출 = 잘 모르겠음\n",
        "\n",
        "A[:, -2:]"
      ],
      "metadata": {
        "colab": {
          "base_uri": "https://localhost:8080/"
        },
        "id": "yP5uI1ecaIHH",
        "outputId": "cc896ba0-2d15-49e1-a944-14e89573c6de"
      },
      "execution_count": 37,
      "outputs": [
        {
          "output_type": "execute_result",
          "data": {
            "text/plain": [
              "array([[ 4,  5],\n",
              "       [ 9, 10],\n",
              "       [14, 15],\n",
              "       [19, 20],\n",
              "       [24, 25]])"
            ]
          },
          "metadata": {},
          "execution_count": 37
        }
      ]
    },
    {
      "cell_type": "code",
      "source": [
        "# A 행렬 생성\n",
        "# 3차원임\n",
        "\n",
        "A = np.array([[[1, 2, 3, 4],\n",
        "               [5, 6, 7, 8],\n",
        "               [9,10, 11, 12]],\n",
        "              [[13, 14, 15, 16],\n",
        "               [17, 18, 19, 20],\n",
        "               [21, 22, 23, 24]],\n",
        "              [[25, 26, 27, 28],\n",
        "               [29, 30, 31, 32],\n",
        "               [33, 34, 35, 36]]])"
      ],
      "metadata": {
        "id": "2WeYXwGRbdNW"
      },
      "execution_count": 38,
      "outputs": []
    },
    {
      "cell_type": "code",
      "source": [
        "# A 배열의 모양과 크기 출력\n",
        "\n",
        "print(A.shape)\n",
        "print(A.size)"
      ],
      "metadata": {
        "colab": {
          "base_uri": "https://localhost:8080/"
        },
        "id": "s2G1sCkEcQtX",
        "outputId": "f9fb3574-c8af-4ee0-86ce-07a2de1b02a7"
      },
      "execution_count": 41,
      "outputs": [
        {
          "output_type": "stream",
          "name": "stdout",
          "text": [
            "(3, 3, 4)\n",
            "36\n"
          ]
        }
      ]
    },
    {
      "cell_type": "code",
      "source": [
        "# A 모양을 (3,4,3)으로 변경\n",
        "\n",
        "A.reshape(3,4,3)"
      ],
      "metadata": {
        "colab": {
          "base_uri": "https://localhost:8080/"
        },
        "id": "J0j0u49acRsW",
        "outputId": "786feae5-5c02-4c6e-8e3f-cd6e505f7bd0"
      },
      "execution_count": 42,
      "outputs": [
        {
          "output_type": "execute_result",
          "data": {
            "text/plain": [
              "array([[[ 1,  2,  3],\n",
              "        [ 4,  5,  6],\n",
              "        [ 7,  8,  9],\n",
              "        [10, 11, 12]],\n",
              "\n",
              "       [[13, 14, 15],\n",
              "        [16, 17, 18],\n",
              "        [19, 20, 21],\n",
              "        [22, 23, 24]],\n",
              "\n",
              "       [[25, 26, 27],\n",
              "        [28, 29, 30],\n",
              "        [31, 32, 33],\n",
              "        [34, 35, 36]]])"
            ]
          },
          "metadata": {},
          "execution_count": 42
        }
      ]
    },
    {
      "cell_type": "code",
      "source": [
        "# A를 1차원 배열로 구성\n",
        "\n",
        "print(A.flatten())\n",
        "\n",
        "## print 붙이면 쉼표가 없고\n",
        "## 그냥 출력하면 쉼표가 잇음"
      ],
      "metadata": {
        "colab": {
          "base_uri": "https://localhost:8080/"
        },
        "id": "DsOJWTj1cg9m",
        "outputId": "f599f6df-af4f-46c1-df67-897c093c82fe"
      },
      "execution_count": 45,
      "outputs": [
        {
          "output_type": "stream",
          "name": "stdout",
          "text": [
            "[ 1  2  3  4  5  6  7  8  9 10 11 12 13 14 15 16 17 18 19 20 21 22 23 24\n",
            " 25 26 27 28 29 30 31 32 33 34 35 36]\n"
          ]
        }
      ]
    },
    {
      "cell_type": "code",
      "source": [
        "# A 행렬 생성\n",
        "\n",
        "arr = np.arange(1, 37)\n",
        "\n",
        "arr_3d=arr.reshape(3,3,4)\n",
        "\n",
        "arr_3d"
      ],
      "metadata": {
        "colab": {
          "base_uri": "https://localhost:8080/"
        },
        "id": "97iZwWwocmSW",
        "outputId": "7003f662-3a9e-4ba2-9503-1ea9a10b4268"
      },
      "execution_count": 50,
      "outputs": [
        {
          "output_type": "execute_result",
          "data": {
            "text/plain": [
              "array([[[ 1,  2,  3,  4],\n",
              "        [ 5,  6,  7,  8],\n",
              "        [ 9, 10, 11, 12]],\n",
              "\n",
              "       [[13, 14, 15, 16],\n",
              "        [17, 18, 19, 20],\n",
              "        [21, 22, 23, 24]],\n",
              "\n",
              "       [[25, 26, 27, 28],\n",
              "        [29, 30, 31, 32],\n",
              "        [33, 34, 35, 36]]])"
            ]
          },
          "metadata": {},
          "execution_count": 50
        }
      ]
    },
    {
      "cell_type": "code",
      "source": [],
      "metadata": {
        "id": "kfZNRzlgdJS3"
      },
      "execution_count": null,
      "outputs": []
    }
  ]
}