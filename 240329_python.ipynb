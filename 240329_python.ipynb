{
  "nbformat": 4,
  "nbformat_minor": 0,
  "metadata": {
    "colab": {
      "provenance": []
    },
    "kernelspec": {
      "name": "python3",
      "display_name": "Python 3"
    },
    "language_info": {
      "name": "python"
    }
  },
  "cells": [
    {
      "cell_type": "code",
      "execution_count": null,
      "metadata": {
        "id": "D9o8nhUkNtUH",
        "colab": {
          "base_uri": "https://localhost:8080/"
        },
        "outputId": "ad9d6429-07e6-4701-cf8b-f15ac7aa9236"
      },
      "outputs": [
        {
          "output_type": "stream",
          "name": "stdout",
          "text": [
            "분을 입력하시오100\n",
            "100 -> 1시간 40분\n"
          ]
        }
      ],
      "source": [
        "#1. 분을 입력받아서 시간과 분을 출력하시오\n",
        "\n",
        "in_m = int(input(\"분을 입력하시오\"))\n",
        "\n",
        "h = in_m//60\n",
        "m = in_m%60\n",
        "\n",
        "print(\"{:d} -> {:d}시간 {:d}분\" .format(in_m,h,m))"
      ]
    },
    {
      "cell_type": "code",
      "source": [
        "#2. 섭씨 온도를 입력받아서 화씨온도를 출력하시오\n",
        "\n",
        "a= input(\"섭씨 온도는?\")\n",
        "\n",
        "b = int(a)*1.8+32\n",
        "\n",
        "\n",
        "print(\"섭씨 %s 도는 화씨 %.1f도 입니다.\" %(a,b))"
      ],
      "metadata": {
        "id": "jdcdNJ-hNydv",
        "colab": {
          "base_uri": "https://localhost:8080/"
        },
        "outputId": "53d65490-9a28-4274-e34f-43b71e4930ef"
      },
      "execution_count": null,
      "outputs": [
        {
          "output_type": "stream",
          "name": "stdout",
          "text": [
            "섭씨 온도는?31\n",
            "섭씨 31 도는 화씨 87.8도 입니다.\n"
          ]
        }
      ]
    },
    {
      "cell_type": "code",
      "source": [
        "#3. 원의 반지름을 입력받아서 원의 둘레와 면적을 출력하시오.\n",
        "\n",
        "r = int(input(\"원의 반지름을 입력하시오 : \"))\n",
        "\n",
        "l = 2*r*3.14\n",
        "n = r*r*3.14\n",
        "\n",
        "print(\"반지름이 %d인 원의 둘레는 %.1f이고, 면적은 %.1f입니다.\" %(r,l,n))"
      ],
      "metadata": {
        "id": "yo-X-AX7N0Bf",
        "colab": {
          "base_uri": "https://localhost:8080/"
        },
        "outputId": "06e6f09a-a867-4e6e-c2f3-320afcf0746f"
      },
      "execution_count": null,
      "outputs": [
        {
          "output_type": "stream",
          "name": "stdout",
          "text": [
            "원의 반지름을 입력하시오 : 15\n",
            "반지름이 15인 원의 둘레는 94.2이고, 면적은 706.5입니다.\n"
          ]
        }
      ]
    }
  ]
}