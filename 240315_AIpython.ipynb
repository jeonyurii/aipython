{
  "nbformat": 4,
  "nbformat_minor": 0,
  "metadata": {
    "colab": {
      "provenance": []
    },
    "kernelspec": {
      "name": "python3",
      "display_name": "Python 3"
    },
    "language_info": {
      "name": "python"
    }
  },
  "cells": [
    {
      "cell_type": "markdown",
      "source": [
        "***두 수를 입력받아서 합을 출력하는 프로그램***\n",
        "\n",
        "\n"
      ],
      "metadata": {
        "id": "3LEMnebz_1id"
      }
    },
    {
      "cell_type": "code",
      "execution_count": 3,
      "metadata": {
        "colab": {
          "base_uri": "https://localhost:8080/"
        },
        "id": "YzBODdqs-XIT",
        "outputId": "ee729908-812a-49dd-de5b-5ad0e1cee907"
      },
      "outputs": [
        {
          "output_type": "stream",
          "name": "stdout",
          "text": [
            "두 정수를 입력하세요: 2 4\n",
            "두 정수의 합은: 6\n"
          ]
        }
      ],
      "source": [
        "A, B = map(int, input(\"두 정수를 입력하세요: \").split())\n",
        "\n",
        "# A와 B의 합을 계산\n",
        "sum = A + B\n",
        "\n",
        "# 합 출력\n",
        "print(\"두 정수의 합은:\", sum)\n",
        "\n"
      ]
    },
    {
      "cell_type": "code",
      "source": [
        "print(\"Hello Pyhon\")"
      ],
      "metadata": {
        "colab": {
          "base_uri": "https://localhost:8080/"
        },
        "id": "5xWSa95y_cxO",
        "outputId": "73aade55-93ab-46c7-fe6a-0cbce26c347b"
      },
      "execution_count": 2,
      "outputs": [
        {
          "output_type": "stream",
          "name": "stdout",
          "text": [
            "Hello Pyhon\n"
          ]
        }
      ]
    }
  ]
}